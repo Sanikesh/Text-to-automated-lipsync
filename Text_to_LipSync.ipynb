{
  "nbformat": 4,
  "nbformat_minor": 0,
  "metadata": {
    "colab": {
      "name": "Text_to_LipSync.ipynb",
      "provenance": [],
      "collapsed_sections": [],
      "include_colab_link": true
    },
    "kernelspec": {
      "name": "python3",
      "display_name": "Python 3"
    },
    "accelerator": "GPU"
  },
  "cells": [
    {
      "cell_type": "markdown",
      "metadata": {
        "id": "view-in-github",
        "colab_type": "text"
      },
      "source": [
        "<a href=\"https://colab.research.google.com/github/Sanikesh/Text-to-automated-lipsync/blob/main/Text_to_LipSync.ipynb\" target=\"_parent\"><img src=\"https://colab.research.google.com/assets/colab-badge.svg\" alt=\"Open In Colab\"/></a>"
      ]
    },
    {
      "cell_type": "markdown",
      "source": [
        "<h1>Text to speech"
      ],
      "metadata": {
        "id": "MNBH3KV4rEa_"
      }
    },
    {
      "cell_type": "code",
      "source": [
        "!pip install gtts\n",
        "from gtts import gTTS\n",
        "import os"
      ],
      "metadata": {
        "id": "ar_bAWHjrIBF",
        "outputId": "6923f90d-494b-40f1-d2c7-1d1a0a7bf118",
        "colab": {
          "base_uri": "https://localhost:8080/"
        }
      },
      "execution_count": null,
      "outputs": [
        {
          "output_type": "stream",
          "name": "stdout",
          "text": [
            "Looking in indexes: https://pypi.org/simple, https://us-python.pkg.dev/colab-wheels/public/simple/\n",
            "Collecting gtts\n",
            "  Downloading gTTS-2.2.4-py3-none-any.whl (26 kB)\n",
            "Requirement already satisfied: requests in /usr/local/lib/python3.7/dist-packages (from gtts) (2.23.0)\n",
            "Requirement already satisfied: six in /usr/local/lib/python3.7/dist-packages (from gtts) (1.15.0)\n",
            "Requirement already satisfied: click in /usr/local/lib/python3.7/dist-packages (from gtts) (7.1.2)\n",
            "Requirement already satisfied: urllib3!=1.25.0,!=1.25.1,<1.26,>=1.21.1 in /usr/local/lib/python3.7/dist-packages (from requests->gtts) (1.24.3)\n",
            "Requirement already satisfied: chardet<4,>=3.0.2 in /usr/local/lib/python3.7/dist-packages (from requests->gtts) (3.0.4)\n",
            "Requirement already satisfied: idna<3,>=2.5 in /usr/local/lib/python3.7/dist-packages (from requests->gtts) (2.10)\n",
            "Requirement already satisfied: certifi>=2017.4.17 in /usr/local/lib/python3.7/dist-packages (from requests->gtts) (2022.6.15)\n",
            "Installing collected packages: gtts\n",
            "Successfully installed gtts-2.2.4\n"
          ]
        }
      ]
    },
    {
      "cell_type": "code",
      "source": [
        "myText=\"Yamete kudasai! Onee Chan\"\n",
        "lang='en'"
      ],
      "metadata": {
        "id": "oJn5XYVQrNYM"
      },
      "execution_count": null,
      "outputs": []
    },
    {
      "cell_type": "code",
      "source": [
        "output=gTTS(text=myText,lang=lang,slow=False)\n",
        "output.save(\"result.wav\")"
      ],
      "metadata": {
        "id": "Zyx0jNllrPw6"
      },
      "execution_count": null,
      "outputs": []
    },
    {
      "cell_type": "code",
      "source": [
        "from google.colab import drive\n",
        "drive.mount('/content/drive')"
      ],
      "metadata": {
        "colab": {
          "base_uri": "https://localhost:8080/"
        },
        "id": "2bN5VAyBvmsH",
        "outputId": "3c5e0b6d-7fb5-4748-b24b-b50d239eba4c"
      },
      "execution_count": null,
      "outputs": [
        {
          "output_type": "stream",
          "name": "stdout",
          "text": [
            "Drive already mounted at /content/drive; to attempt to forcibly remount, call drive.mount(\"/content/drive\", force_remount=True).\n"
          ]
        }
      ]
    },
    {
      "cell_type": "markdown",
      "source": [
        "<h1>Save to google drive"
      ],
      "metadata": {
        "id": "K5JcuJW1v-0u"
      }
    },
    {
      "cell_type": "code",
      "source": [
        "!cp \"/content/result.wav\" \"/content/drive/My Drive/Wav2Lip\""
      ],
      "metadata": {
        "id": "OHYoJ6NPwC4W"
      },
      "execution_count": null,
      "outputs": []
    },
    {
      "cell_type": "markdown",
      "source": [
        "<h1>Collab preliminaries"
      ],
      "metadata": {
        "id": "uafruum2we-1"
      }
    },
    {
      "cell_type": "code",
      "metadata": {
        "id": "XIVB0Xn1g6ih",
        "colab": {
          "base_uri": "https://localhost:8080/"
        },
        "outputId": "e2ea59fa-6c33-4f27-d594-8ad3f0139d5c"
      },
      "source": [
        "!nvcc --version"
      ],
      "execution_count": null,
      "outputs": [
        {
          "output_type": "stream",
          "name": "stdout",
          "text": [
            "nvcc: NVIDIA (R) Cuda compiler driver\n",
            "Copyright (c) 2005-2020 NVIDIA Corporation\n",
            "Built on Mon_Oct_12_20:09:46_PDT_2020\n",
            "Cuda compilation tools, release 11.1, V11.1.105\n",
            "Build cuda_11.1.TC455_06.29190527_0\n"
          ]
        }
      ]
    },
    {
      "cell_type": "code",
      "metadata": {
        "id": "qciH4PsUazL_"
      },
      "source": [
        "# from google.colab import drive\n",
        "# drive.mount(\"/content/gdrive\", force_remount=True)\n"
      ],
      "execution_count": null,
      "outputs": []
    },
    {
      "cell_type": "markdown",
      "metadata": {
        "id": "yJ5taGmPcWV-"
      },
      "source": [
        "# Get the code and models"
      ]
    },
    {
      "cell_type": "code",
      "metadata": {
        "id": "P3LihClHbUd3",
        "colab": {
          "base_uri": "https://localhost:8080/"
        },
        "outputId": "04112d1b-a8bf-4129-c5c2-ec68324c2f27"
      },
      "source": [
        "!git clone https://github.com/Rudrabha/Wav2Lip.git"
      ],
      "execution_count": null,
      "outputs": [
        {
          "output_type": "stream",
          "name": "stdout",
          "text": [
            "fatal: destination path 'Wav2Lip' already exists and is not an empty directory.\n"
          ]
        }
      ]
    },
    {
      "cell_type": "code",
      "metadata": {
        "id": "y-19nzx8SamJ",
        "colab": {
          "base_uri": "https://localhost:8080/"
        },
        "outputId": "92949773-0f61-4f67-a1ff-4fdbd6b32bb4"
      },
      "source": [
        "!ls"
      ],
      "execution_count": null,
      "outputs": [
        {
          "output_type": "stream",
          "name": "stdout",
          "text": [
            "drive  result.wav  sample_data\tWav2Lip\n"
          ]
        }
      ]
    },
    {
      "cell_type": "code",
      "metadata": {
        "id": "YjzMPy_Sb0AI"
      },
      "source": [
        "!cp -ri \"/content/drive/MyDrive/Wav2lip/wav2lip_gan.pth\" /content/Wav2Lip/checkpoints/"
      ],
      "execution_count": null,
      "outputs": []
    },
    {
      "cell_type": "markdown",
      "metadata": {
        "id": "aWTaOS3ncFt6"
      },
      "source": [
        "# Get the pre-requisites"
      ]
    },
    {
      "cell_type": "code",
      "metadata": {
        "id": "Ooh28vw-Uvd3",
        "outputId": "6934f7da-da6f-46c7-9aed-49234cfd294b",
        "colab": {
          "base_uri": "https://localhost:8080/"
        }
      },
      "source": [
        "!pip uninstall tensorflow tensorflow-gpu"
      ],
      "execution_count": null,
      "outputs": [
        {
          "output_type": "stream",
          "name": "stdout",
          "text": [
            "Found existing installation: tensorflow 2.8.2+zzzcolab20220719082949\n",
            "Uninstalling tensorflow-2.8.2+zzzcolab20220719082949:\n",
            "  Would remove:\n",
            "    /usr/local/bin/estimator_ckpt_converter\n",
            "    /usr/local/bin/import_pb_to_tensorboard\n",
            "    /usr/local/bin/saved_model_cli\n",
            "    /usr/local/bin/tensorboard\n",
            "    /usr/local/bin/tf_upgrade_v2\n",
            "    /usr/local/bin/tflite_convert\n",
            "    /usr/local/bin/toco\n",
            "    /usr/local/bin/toco_from_protos\n",
            "    /usr/local/lib/python3.7/dist-packages/tensorflow-2.8.2+zzzcolab20220719082949.dist-info/*\n",
            "    /usr/local/lib/python3.7/dist-packages/tensorflow/*\n",
            "Proceed (y/n)? y\n",
            "  Successfully uninstalled tensorflow-2.8.2+zzzcolab20220719082949\n",
            "\u001b[33mWARNING: Skipping tensorflow-gpu as it is not installed.\u001b[0m\n"
          ]
        }
      ]
    },
    {
      "cell_type": "code",
      "metadata": {
        "id": "49dCYlLdcK2D",
        "outputId": "6de0a20a-b1ab-4e4f-c078-d7b448442bb3",
        "colab": {
          "base_uri": "https://localhost:8080/"
        }
      },
      "source": [
        "!cd Wav2Lip && pip install -r requirements.txt"
      ],
      "execution_count": null,
      "outputs": [
        {
          "output_type": "stream",
          "name": "stdout",
          "text": [
            "Looking in indexes: https://pypi.org/simple, https://us-python.pkg.dev/colab-wheels/public/simple/\n",
            "Collecting librosa==0.7.0\n",
            "  Downloading librosa-0.7.0.tar.gz (1.6 MB)\n",
            "\u001b[K     |████████████████████████████████| 1.6 MB 7.9 MB/s \n",
            "\u001b[?25hCollecting numpy==1.17.1\n",
            "  Downloading numpy-1.17.1-cp37-cp37m-manylinux1_x86_64.whl (20.3 MB)\n",
            "\u001b[K     |████████████████████████████████| 20.3 MB 1.1 MB/s \n",
            "\u001b[?25hRequirement already satisfied: opencv-contrib-python>=4.2.0.34 in /usr/local/lib/python3.7/dist-packages (from -r requirements.txt (line 3)) (4.6.0.66)\n",
            "Collecting opencv-python==4.1.0.25\n",
            "  Downloading opencv_python-4.1.0.25-cp37-cp37m-manylinux1_x86_64.whl (26.6 MB)\n",
            "\u001b[K     |████████████████████████████████| 26.6 MB 1.4 MB/s \n",
            "\u001b[?25hCollecting torch==1.1.0\n",
            "  Downloading torch-1.1.0-cp37-cp37m-manylinux1_x86_64.whl (676.9 MB)\n",
            "\u001b[K     |████████████████████████████████| 676.9 MB 3.8 kB/s \n",
            "\u001b[?25hCollecting torchvision==0.3.0\n",
            "  Downloading torchvision-0.3.0-cp37-cp37m-manylinux1_x86_64.whl (2.6 MB)\n",
            "\u001b[K     |████████████████████████████████| 2.6 MB 54.1 MB/s \n",
            "\u001b[?25hCollecting tqdm==4.45.0\n",
            "  Downloading tqdm-4.45.0-py2.py3-none-any.whl (60 kB)\n",
            "\u001b[K     |████████████████████████████████| 60 kB 10.6 MB/s \n",
            "\u001b[?25hCollecting numba==0.48\n",
            "  Downloading numba-0.48.0-1-cp37-cp37m-manylinux2014_x86_64.whl (3.5 MB)\n",
            "\u001b[K     |████████████████████████████████| 3.5 MB 57.8 MB/s \n",
            "\u001b[?25hRequirement already satisfied: audioread>=2.0.0 in /usr/local/lib/python3.7/dist-packages (from librosa==0.7.0->-r requirements.txt (line 1)) (2.1.9)\n",
            "Requirement already satisfied: scipy>=1.0.0 in /usr/local/lib/python3.7/dist-packages (from librosa==0.7.0->-r requirements.txt (line 1)) (1.7.3)\n",
            "Requirement already satisfied: scikit-learn!=0.19.0,>=0.14.0 in /usr/local/lib/python3.7/dist-packages (from librosa==0.7.0->-r requirements.txt (line 1)) (1.0.2)\n",
            "Requirement already satisfied: joblib>=0.12 in /usr/local/lib/python3.7/dist-packages (from librosa==0.7.0->-r requirements.txt (line 1)) (1.1.0)\n",
            "Requirement already satisfied: decorator>=3.0.0 in /usr/local/lib/python3.7/dist-packages (from librosa==0.7.0->-r requirements.txt (line 1)) (4.4.2)\n",
            "Requirement already satisfied: six>=1.3 in /usr/local/lib/python3.7/dist-packages (from librosa==0.7.0->-r requirements.txt (line 1)) (1.15.0)\n",
            "Requirement already satisfied: resampy>=0.2.0 in /usr/local/lib/python3.7/dist-packages (from librosa==0.7.0->-r requirements.txt (line 1)) (0.3.1)\n",
            "Requirement already satisfied: soundfile>=0.9.0 in /usr/local/lib/python3.7/dist-packages (from librosa==0.7.0->-r requirements.txt (line 1)) (0.10.3.post1)\n",
            "Requirement already satisfied: pillow>=4.1.1 in /usr/local/lib/python3.7/dist-packages (from torchvision==0.3.0->-r requirements.txt (line 6)) (7.1.2)\n",
            "Collecting llvmlite<0.32.0,>=0.31.0dev0\n",
            "  Downloading llvmlite-0.31.0-cp37-cp37m-manylinux1_x86_64.whl (20.2 MB)\n",
            "\u001b[K     |████████████████████████████████| 20.2 MB 1.2 MB/s \n",
            "\u001b[?25hRequirement already satisfied: setuptools in /usr/local/lib/python3.7/dist-packages (from numba==0.48->-r requirements.txt (line 8)) (57.4.0)\n",
            "Requirement already satisfied: threadpoolctl>=2.0.0 in /usr/local/lib/python3.7/dist-packages (from scikit-learn!=0.19.0,>=0.14.0->librosa==0.7.0->-r requirements.txt (line 1)) (3.1.0)\n",
            "Requirement already satisfied: cffi>=1.0 in /usr/local/lib/python3.7/dist-packages (from soundfile>=0.9.0->librosa==0.7.0->-r requirements.txt (line 1)) (1.15.1)\n",
            "Requirement already satisfied: pycparser in /usr/local/lib/python3.7/dist-packages (from cffi>=1.0->soundfile>=0.9.0->librosa==0.7.0->-r requirements.txt (line 1)) (2.21)\n",
            "Building wheels for collected packages: librosa\n",
            "  Building wheel for librosa (setup.py) ... \u001b[?25l\u001b[?25hdone\n",
            "  Created wheel for librosa: filename=librosa-0.7.0-py3-none-any.whl size=1598360 sha256=0f497db2d24801c35a896e50d38e90c165494d50c9ad4ec568f3faa6f4df88ea\n",
            "  Stored in directory: /root/.cache/pip/wheels/f5/0d/b1/71a4e1863d7577a218f771df59c7582996580fa07ac79d68fd\n",
            "Successfully built librosa\n",
            "Installing collected packages: numpy, llvmlite, numba, torch, tqdm, torchvision, opencv-python, librosa\n",
            "  Attempting uninstall: numpy\n",
            "    Found existing installation: numpy 1.21.6\n",
            "    Uninstalling numpy-1.21.6:\n",
            "      Successfully uninstalled numpy-1.21.6\n",
            "  Attempting uninstall: llvmlite\n",
            "    Found existing installation: llvmlite 0.34.0\n",
            "    Uninstalling llvmlite-0.34.0:\n",
            "      Successfully uninstalled llvmlite-0.34.0\n",
            "  Attempting uninstall: numba\n",
            "    Found existing installation: numba 0.51.2\n",
            "    Uninstalling numba-0.51.2:\n",
            "      Successfully uninstalled numba-0.51.2\n",
            "  Attempting uninstall: torch\n",
            "    Found existing installation: torch 1.12.0+cu113\n",
            "    Uninstalling torch-1.12.0+cu113:\n",
            "      Successfully uninstalled torch-1.12.0+cu113\n",
            "  Attempting uninstall: tqdm\n",
            "    Found existing installation: tqdm 4.64.0\n",
            "    Uninstalling tqdm-4.64.0:\n",
            "      Successfully uninstalled tqdm-4.64.0\n",
            "  Attempting uninstall: torchvision\n",
            "    Found existing installation: torchvision 0.13.0+cu113\n",
            "    Uninstalling torchvision-0.13.0+cu113:\n",
            "      Successfully uninstalled torchvision-0.13.0+cu113\n",
            "  Attempting uninstall: opencv-python\n",
            "    Found existing installation: opencv-python 4.6.0.66\n",
            "    Uninstalling opencv-python-4.6.0.66:\n",
            "      Successfully uninstalled opencv-python-4.6.0.66\n",
            "  Attempting uninstall: librosa\n",
            "    Found existing installation: librosa 0.8.1\n",
            "    Uninstalling librosa-0.8.1:\n",
            "      Successfully uninstalled librosa-0.8.1\n",
            "\u001b[31mERROR: pip's dependency resolver does not currently take into account all the packages that are installed. This behaviour is the source of the following dependency conflicts.\n",
            "kapre 0.3.7 requires tensorflow>=2.0.0, which is not installed.\n",
            "xarray 0.20.2 requires numpy>=1.18, but you have numpy 1.17.1 which is incompatible.\n",
            "xarray-einstats 0.2.2 requires numpy>=1.21, but you have numpy 1.17.1 which is incompatible.\n",
            "torchtext 0.13.0 requires torch==1.12.0, but you have torch 1.1.0 which is incompatible.\n",
            "torchaudio 0.12.0+cu113 requires torch==1.12.0, but you have torch 1.1.0 which is incompatible.\n",
            "tables 3.7.0 requires numpy>=1.19.0, but you have numpy 1.17.1 which is incompatible.\n",
            "pywavelets 1.3.0 requires numpy>=1.17.3, but you have numpy 1.17.1 which is incompatible.\n",
            "panel 0.12.1 requires tqdm>=4.48.0, but you have tqdm 4.45.0 which is incompatible.\n",
            "pandas 1.3.5 requires numpy>=1.17.3; platform_machine != \"aarch64\" and platform_machine != \"arm64\" and python_version < \"3.10\", but you have numpy 1.17.1 which is incompatible.\n",
            "kapre 0.3.7 requires librosa>=0.7.2, but you have librosa 0.7.0 which is incompatible.\n",
            "kapre 0.3.7 requires numpy>=1.18.5, but you have numpy 1.17.1 which is incompatible.\n",
            "jaxlib 0.3.14+cuda11.cudnn805 requires numpy>=1.19, but you have numpy 1.17.1 which is incompatible.\n",
            "jax 0.3.14 requires numpy>=1.19, but you have numpy 1.17.1 which is incompatible.\n",
            "fastai 2.7.7 requires torch<1.13,>=1.7, but you have torch 1.1.0 which is incompatible.\n",
            "fastai 2.7.7 requires torchvision>=0.8.2, but you have torchvision 0.3.0 which is incompatible.\n",
            "datascience 0.10.6 requires folium==0.2.1, but you have folium 0.8.3 which is incompatible.\n",
            "albumentations 0.1.12 requires imgaug<0.2.7,>=0.2.5, but you have imgaug 0.2.9 which is incompatible.\u001b[0m\n",
            "Successfully installed librosa-0.7.0 llvmlite-0.31.0 numba-0.48.0 numpy-1.17.1 opencv-python-4.1.0.25 torch-1.1.0 torchvision-0.3.0 tqdm-4.45.0\n"
          ]
        }
      ]
    },
    {
      "cell_type": "code",
      "metadata": {
        "id": "ey_bN4M6X_95",
        "colab": {
          "base_uri": "https://localhost:8080/"
        },
        "outputId": "a215aa5a-86c7-4b69-f262-18e8fb26795e"
      },
      "source": [
        "!wget \"https://www.adrianbulat.com/downloads/python-fan/s3fd-619a316812.pth\" -O \"Wav2Lip/face_detection/detection/sfd/s3fd.pth\""
      ],
      "execution_count": null,
      "outputs": [
        {
          "output_type": "stream",
          "name": "stdout",
          "text": [
            "--2022-07-23 11:19:03--  https://www.adrianbulat.com/downloads/python-fan/s3fd-619a316812.pth\n",
            "Resolving www.adrianbulat.com (www.adrianbulat.com)... 45.136.29.207\n",
            "Connecting to www.adrianbulat.com (www.adrianbulat.com)|45.136.29.207|:443... connected.\n",
            "HTTP request sent, awaiting response... 200 OK\n",
            "Length: 89843225 (86M) [application/octet-stream]\n",
            "Saving to: ‘Wav2Lip/face_detection/detection/sfd/s3fd.pth’\n",
            "\n",
            "Wav2Lip/face_detect 100%[===================>]  85.68M  18.5MB/s    in 5.7s    \n",
            "\n",
            "2022-07-23 11:19:10 (15.1 MB/s) - ‘Wav2Lip/face_detection/detection/sfd/s3fd.pth’ saved [89843225/89843225]\n",
            "\n"
          ]
        }
      ]
    },
    {
      "cell_type": "markdown",
      "metadata": {
        "id": "qdIQfY2Kswcb"
      },
      "source": [
        "# Now lets try!"
      ]
    },
    {
      "cell_type": "code",
      "metadata": {
        "id": "KoVGMtjRZfeR",
        "colab": {
          "base_uri": "https://localhost:8080/"
        },
        "outputId": "1654ae66-58ed-44cd-906f-ca9a1d6b63c8"
      },
      "source": [
        "!cp \"/content/drive/My Drive/Wav2Lip/me.mp4\" \"/content/drive/My Drive/Wav2Lip/result.wav\" sample_data/\n",
        "!ls sample_data/"
      ],
      "execution_count": null,
      "outputs": [
        {
          "output_type": "stream",
          "name": "stdout",
          "text": [
            "anscombe.json\t\t      me.mp4\t\t     mona_Tri.mp4\n",
            "california_housing_test.csv   mnist_test.csv\t     README.md\n",
            "california_housing_train.csv  mnist_train_small.csv  result.wav\n"
          ]
        }
      ]
    },
    {
      "cell_type": "code",
      "metadata": {
        "id": "jR5utmDMcSZY",
        "colab": {
          "base_uri": "https://localhost:8080/"
        },
        "outputId": "a5e8d30c-0c06-492b-893c-40798382fae0"
      },
      "source": [
        "!cd Wav2Lip && python inference.py --checkpoint_path checkpoints/wav2lip_gan.pth --face \"../sample_data/me.mp4\" --audio \"../sample_data/result.wav\""
      ],
      "execution_count": null,
      "outputs": [
        {
          "output_type": "stream",
          "name": "stdout",
          "text": [
            "Using cuda for inference.\n",
            "Reading video frames...\n",
            "Number of frames available for inference: 86\n",
            "(80, 229)\n",
            "Length of mel chunks: 79\n",
            "  0% 0/1 [00:00<?, ?it/s]\n",
            "  0% 0/5 [00:00<?, ?it/s]\u001b[ATHCudaCheck FAIL file=/pytorch/aten/src/THC/THCGeneral.cpp line=383 error=11 : invalid argument\n",
            "  0% 0/5 [00:01<?, ?it/s]\n",
            "Recovering from OOM error; New batch size: 8\n",
            "\n",
            "  0% 0/10 [00:00<?, ?it/s]\u001b[A\n",
            " 10% 1/10 [00:14<02:12, 14.67s/it]\u001b[A\n",
            " 20% 2/10 [00:17<01:29, 11.16s/it]\u001b[A\n",
            " 30% 3/10 [00:20<01:00,  8.59s/it]\u001b[A\n",
            " 40% 4/10 [00:22<00:40,  6.79s/it]\u001b[A\n",
            " 50% 5/10 [00:25<00:27,  5.53s/it]\u001b[A\n",
            " 60% 6/10 [00:28<00:18,  4.65s/it]\u001b[A\n",
            " 70% 7/10 [00:30<00:12,  4.03s/it]\u001b[A\n",
            " 80% 8/10 [00:33<00:07,  3.59s/it]\u001b[A\n",
            " 90% 9/10 [00:35<00:03,  3.28s/it]\u001b[A\n",
            "100% 10/10 [00:50<00:00,  5.04s/it]\n",
            "Load checkpoint from: checkpoints/wav2lip_gan.pth\n",
            "Model loaded\n",
            "100% 1/1 [00:59<00:00, 59.47s/it]\n",
            "ffmpeg version 3.4.11-0ubuntu0.1 Copyright (c) 2000-2022 the FFmpeg developers\n",
            "  built with gcc 7 (Ubuntu 7.5.0-3ubuntu1~18.04)\n",
            "  configuration: --prefix=/usr --extra-version=0ubuntu0.1 --toolchain=hardened --libdir=/usr/lib/x86_64-linux-gnu --incdir=/usr/include/x86_64-linux-gnu --enable-gpl --disable-stripping --enable-avresample --enable-avisynth --enable-gnutls --enable-ladspa --enable-libass --enable-libbluray --enable-libbs2b --enable-libcaca --enable-libcdio --enable-libflite --enable-libfontconfig --enable-libfreetype --enable-libfribidi --enable-libgme --enable-libgsm --enable-libmp3lame --enable-libmysofa --enable-libopenjpeg --enable-libopenmpt --enable-libopus --enable-libpulse --enable-librubberband --enable-librsvg --enable-libshine --enable-libsnappy --enable-libsoxr --enable-libspeex --enable-libssh --enable-libtheora --enable-libtwolame --enable-libvorbis --enable-libvpx --enable-libwavpack --enable-libwebp --enable-libx265 --enable-libxml2 --enable-libxvid --enable-libzmq --enable-libzvbi --enable-omx --enable-openal --enable-opengl --enable-sdl2 --enable-libdc1394 --enable-libdrm --enable-libiec61883 --enable-chromaprint --enable-frei0r --enable-libopencv --enable-libx264 --enable-shared\n",
            "  libavutil      55. 78.100 / 55. 78.100\n",
            "  libavcodec     57.107.100 / 57.107.100\n",
            "  libavformat    57. 83.100 / 57. 83.100\n",
            "  libavdevice    57. 10.100 / 57. 10.100\n",
            "  libavfilter     6.107.100 /  6.107.100\n",
            "  libavresample   3.  7.  0 /  3.  7.  0\n",
            "  libswscale      4.  8.100 /  4.  8.100\n",
            "  libswresample   2.  9.100 /  2.  9.100\n",
            "  libpostproc    54.  7.100 / 54.  7.100\n",
            "\u001b[0;35m[mp3 @ 0x5569385f2000] \u001b[0m\u001b[0;33mEstimating duration from bitrate, this may be inaccurate\n",
            "\u001b[0mInput #0, mp3, from '../sample_data/result.wav':\n",
            "  Duration: 00:00:02.86, start: 0.000000, bitrate: 32 kb/s\n",
            "    Stream #0:0: Audio: mp3, 24000 Hz, mono, s16p, 32 kb/s\n",
            "Input #1, avi, from 'temp/result.avi':\n",
            "  Metadata:\n",
            "    encoder         : Lavf58.26.101\n",
            "  Duration: 00:00:02.72, start: 0.000000, bitrate: 13075 kb/s\n",
            "    Stream #1:0: Video: mpeg4 (Simple Profile) (DIVX / 0x58564944), yuv420p, 1080x1920 [SAR 1:1 DAR 9:16], 13205 kb/s, 29 fps, 29 tbr, 29 tbn, 29 tbc\n",
            "Stream mapping:\n",
            "  Stream #1:0 -> #0:0 (mpeg4 (native) -> h264 (libx264))\n",
            "  Stream #0:0 -> #0:1 (mp3 (native) -> aac (native))\n",
            "Press [q] to stop, [?] for help\n",
            "\u001b[1;36m[libx264 @ 0x556938610d00] \u001b[0m\u001b[0;33m-qscale is ignored, -crf is recommended.\n",
            "\u001b[0m\u001b[1;36m[libx264 @ 0x556938610d00] \u001b[0musing SAR=1/1\n",
            "\u001b[1;36m[libx264 @ 0x556938610d00] \u001b[0musing cpu capabilities: MMX2 SSE2Fast SSSE3 SSE4.2 AVX FMA3 BMI2 AVX2\n",
            "\u001b[1;36m[libx264 @ 0x556938610d00] \u001b[0mprofile High, level 4.0\n",
            "\u001b[1;36m[libx264 @ 0x556938610d00] \u001b[0m264 - core 152 r2854 e9a5903 - H.264/MPEG-4 AVC codec - Copyleft 2003-2017 - http://www.videolan.org/x264.html - options: cabac=1 ref=3 deblock=1:0:0 analyse=0x3:0x113 me=hex subme=7 psy=1 psy_rd=1.00:0.00 mixed_ref=1 me_range=16 chroma_me=1 trellis=1 8x8dct=1 cqm=0 deadzone=21,11 fast_pskip=1 chroma_qp_offset=-2 threads=3 lookahead_threads=1 sliced_threads=0 nr=0 decimate=1 interlaced=0 bluray_compat=0 constrained_intra=0 bframes=3 b_pyramid=2 b_adapt=1 b_bias=0 direct=1 weightb=1 open_gop=0 weightp=2 keyint=250 keyint_min=25 scenecut=40 intra_refresh=0 rc_lookahead=40 rc=crf mbtree=1 crf=23.0 qcomp=0.60 qpmin=0 qpmax=69 qpstep=4 ip_ratio=1.40 aq=1:1.00\n",
            "Output #0, mp4, to 'results/result_voice.mp4':\n",
            "  Metadata:\n",
            "    encoder         : Lavf57.83.100\n",
            "    Stream #0:0: Video: h264 (libx264) (avc1 / 0x31637661), yuv420p(progressive), 1080x1920 [SAR 1:1 DAR 9:16], q=-1--1, 29 fps, 14848 tbn, 29 tbc\n",
            "    Metadata:\n",
            "      encoder         : Lavc57.107.100 libx264\n",
            "    Side data:\n",
            "      cpb: bitrate max/min/avg: 0/0/0 buffer size: 0 vbv_delay: -1\n",
            "    Stream #0:1: Audio: aac (LC) (mp4a / 0x6134706D), 24000 Hz, mono, fltp, 69 kb/s\n",
            "    Metadata:\n",
            "      encoder         : Lavc57.107.100 aac\n",
            "frame=   79 fps=7.1 q=-1.0 Lsize=    1820kB time=00:00:02.85 bitrate=5215.5kbits/s speed=0.256x    \n",
            "video:1794kB audio:23kB subtitle:0kB other streams:0kB global headers:0kB muxing overhead: 0.164407%\n",
            "\u001b[1;36m[libx264 @ 0x556938610d00] \u001b[0mframe I:1     Avg QP:22.55  size:106844\n",
            "\u001b[1;36m[libx264 @ 0x556938610d00] \u001b[0mframe P:65    Avg QP:22.81  size: 24735\n",
            "\u001b[1;36m[libx264 @ 0x556938610d00] \u001b[0mframe B:13    Avg QP:25.49  size:  9326\n",
            "\u001b[1;36m[libx264 @ 0x556938610d00] \u001b[0mconsecutive B-frames: 75.9%  5.1%  3.8% 15.2%\n",
            "\u001b[1;36m[libx264 @ 0x556938610d00] \u001b[0mmb I  I16..4: 23.3% 75.9%  0.8%\n",
            "\u001b[1;36m[libx264 @ 0x556938610d00] \u001b[0mmb P  I16..4:  2.9%  9.3%  0.0%  P16..4: 39.8% 10.3%  7.6%  0.0%  0.0%    skip:30.1%\n",
            "\u001b[1;36m[libx264 @ 0x556938610d00] \u001b[0mmb B  I16..4:  2.2%  6.2%  0.0%  B16..8: 40.3%  2.6%  0.3%  direct: 1.3%  skip:47.2%  L0:47.8% L1:48.4% BI: 3.7%\n",
            "\u001b[1;36m[libx264 @ 0x556938610d00] \u001b[0m8x8 transform intra:75.8% inter:79.4%\n",
            "\u001b[1;36m[libx264 @ 0x556938610d00] \u001b[0mcoded y,uvDC,uvAC intra: 31.1% 41.2% 1.1% inter: 18.7% 12.5% 0.0%\n",
            "\u001b[1;36m[libx264 @ 0x556938610d00] \u001b[0mi16 v,h,dc,p: 42% 28% 20% 10%\n",
            "\u001b[1;36m[libx264 @ 0x556938610d00] \u001b[0mi8 v,h,dc,ddl,ddr,vr,hd,vl,hu: 31% 23% 38%  2%  1%  1%  1%  1%  1%\n",
            "\u001b[1;36m[libx264 @ 0x556938610d00] \u001b[0mi4 v,h,dc,ddl,ddr,vr,hd,vl,hu: 44% 21% 14%  2%  4%  5%  4%  3%  2%\n",
            "\u001b[1;36m[libx264 @ 0x556938610d00] \u001b[0mi8c dc,h,v,p: 53% 23% 22%  2%\n",
            "\u001b[1;36m[libx264 @ 0x556938610d00] \u001b[0mWeighted P-Frames: Y:0.0% UV:0.0%\n",
            "\u001b[1;36m[libx264 @ 0x556938610d00] \u001b[0mref P L0: 71.9% 12.8% 10.8%  4.5%\n",
            "\u001b[1;36m[libx264 @ 0x556938610d00] \u001b[0mref B L0: 86.3% 10.6%  3.1%\n",
            "\u001b[1;36m[libx264 @ 0x556938610d00] \u001b[0mref B L1: 94.7%  5.3%\n",
            "\u001b[1;36m[libx264 @ 0x556938610d00] \u001b[0mkb/s:5391.46\n",
            "\u001b[1;36m[aac @ 0x5569386f0000] \u001b[0mQavg: 8143.706\n"
          ]
        }
      ]
    },
    {
      "cell_type": "code",
      "metadata": {
        "id": "uNOAZvkszEOw"
      },
      "source": [
        "# use the \"files\" button on the left to download the result in the Wav2Lip/results/ folder."
      ],
      "execution_count": null,
      "outputs": []
    },
    {
      "cell_type": "markdown",
      "metadata": {
        "id": "d7zgfrQqbKom"
      },
      "source": [
        "## **Variations to try**\n"
      ]
    },
    {
      "cell_type": "markdown",
      "metadata": {
        "id": "0f9A9VDVbZAG"
      },
      "source": [
        "1.   Use more padding to include the chin region"
      ]
    },
    {
      "cell_type": "code",
      "metadata": {
        "id": "45XW4SZAzIz5",
        "outputId": "f161935d-9df5-48fa-cd45-338c130ab096",
        "colab": {
          "base_uri": "https://localhost:8080/"
        }
      },
      "source": [
        "!cd Wav2Lip && python inference.py --checkpoint_path checkpoints/wav2lip_gan.pth --face \"../sample_data/mona.mp4\" --audio \"../sample_data/me2.wav\" --pads 0 20 0 0"
      ],
      "execution_count": null,
      "outputs": [
        {
          "output_type": "stream",
          "name": "stdout",
          "text": [
            "Using cuda for inference.\n",
            "Reading video frames...\n",
            "Number of frames available for inference: 479\n",
            "(80, 1201)\n",
            "Length of mel chunks: 446\n",
            "  0% 0/4 [00:00<?, ?it/s]\n",
            "  0% 0/28 [00:00<?, ?it/s]\u001b[ATHCudaCheck FAIL file=/pytorch/aten/src/THC/THCGeneral.cpp line=383 error=11 : invalid argument\n",
            "  0% 0/28 [00:00<?, ?it/s]\n",
            "Recovering from OOM error; New batch size: 8\n",
            "\n",
            "  0% 0/56 [00:00<?, ?it/s]\u001b[A\n",
            "  2% 1/56 [00:08<07:26,  8.13s/it]\u001b[A\n",
            "  4% 2/56 [00:09<05:25,  6.02s/it]\u001b[A\n",
            "  5% 3/56 [00:10<04:01,  4.55s/it]\u001b[A\n",
            "  7% 4/56 [00:11<03:02,  3.52s/it]\u001b[A\n",
            "  9% 5/56 [00:12<02:22,  2.79s/it]\u001b[A\n",
            " 11% 6/56 [00:13<01:54,  2.29s/it]\u001b[A\n",
            " 12% 7/56 [00:14<01:34,  1.94s/it]\u001b[A\n",
            " 14% 8/56 [00:15<01:21,  1.70s/it]\u001b[A\n",
            " 16% 9/56 [00:17<01:11,  1.53s/it]\u001b[A\n",
            " 18% 10/56 [00:18<01:04,  1.40s/it]\u001b[A\n",
            " 20% 11/56 [00:19<00:59,  1.32s/it]\u001b[A\n",
            " 21% 12/56 [00:20<00:55,  1.26s/it]\u001b[A\n",
            " 23% 13/56 [00:21<00:52,  1.22s/it]\u001b[A\n",
            " 25% 14/56 [00:22<00:50,  1.20s/it]\u001b[A\n",
            " 27% 15/56 [00:23<00:48,  1.17s/it]\u001b[A\n",
            " 29% 16/56 [00:24<00:46,  1.16s/it]\u001b[A\n",
            " 30% 17/56 [00:26<00:45,  1.15s/it]\u001b[A\n",
            " 32% 18/56 [00:27<00:43,  1.15s/it]\u001b[A\n",
            " 34% 19/56 [00:28<00:42,  1.14s/it]\u001b[A\n",
            " 36% 20/56 [00:29<00:40,  1.14s/it]\u001b[A\n",
            " 38% 21/56 [00:30<00:39,  1.14s/it]\u001b[A\n",
            " 39% 22/56 [00:31<00:39,  1.16s/it]\u001b[A\n",
            " 41% 23/56 [00:33<00:39,  1.20s/it]\u001b[A\n",
            " 43% 24/56 [00:34<00:38,  1.21s/it]\u001b[A\n",
            " 45% 25/56 [00:35<00:36,  1.19s/it]\u001b[A\n",
            " 46% 26/56 [00:36<00:35,  1.17s/it]\u001b[A\n",
            " 48% 27/56 [00:37<00:33,  1.16s/it]\u001b[A\n",
            " 50% 28/56 [00:38<00:32,  1.15s/it]\u001b[A\n",
            " 52% 29/56 [00:39<00:30,  1.14s/it]\u001b[A\n",
            " 54% 30/56 [00:41<00:29,  1.14s/it]\u001b[A\n",
            " 55% 31/56 [00:42<00:28,  1.13s/it]\u001b[A\n",
            " 57% 32/56 [00:43<00:27,  1.14s/it]\u001b[A\n",
            " 59% 33/56 [00:44<00:26,  1.14s/it]\u001b[A\n",
            " 61% 34/56 [00:45<00:24,  1.14s/it]\u001b[A\n",
            " 62% 35/56 [00:46<00:23,  1.13s/it]\u001b[A\n",
            " 64% 36/56 [00:47<00:22,  1.13s/it]\u001b[A\n",
            " 66% 37/56 [00:49<00:21,  1.13s/it]\u001b[A\n",
            " 68% 38/56 [00:50<00:20,  1.13s/it]\u001b[A\n",
            " 70% 39/56 [00:51<00:19,  1.13s/it]\u001b[A\n",
            " 71% 40/56 [00:52<00:18,  1.13s/it]\u001b[A\n",
            " 73% 41/56 [00:53<00:17,  1.13s/it]\u001b[A\n",
            " 75% 42/56 [00:54<00:15,  1.14s/it]\u001b[A\n",
            " 77% 43/56 [00:55<00:14,  1.14s/it]\u001b[A\n",
            " 79% 44/56 [00:56<00:13,  1.13s/it]\u001b[A\n",
            " 80% 45/56 [00:58<00:12,  1.13s/it]\u001b[A\n",
            " 82% 46/56 [00:59<00:11,  1.13s/it]\u001b[A\n",
            " 84% 47/56 [01:00<00:10,  1.14s/it]\u001b[A\n",
            " 86% 48/56 [01:01<00:09,  1.13s/it]\u001b[A\n",
            " 88% 49/56 [01:02<00:07,  1.13s/it]\u001b[A\n",
            " 89% 50/56 [01:03<00:06,  1.14s/it]\u001b[A\n",
            " 91% 51/56 [01:04<00:05,  1.14s/it]\u001b[A\n",
            " 93% 52/56 [01:06<00:04,  1.14s/it]\u001b[A\n",
            " 95% 53/56 [01:07<00:03,  1.14s/it]\u001b[A\n",
            " 96% 54/56 [01:08<00:02,  1.14s/it]\u001b[A\n",
            " 98% 55/56 [01:09<00:01,  1.14s/it]\u001b[A\n",
            "100% 56/56 [01:16<00:00,  1.36s/it]\n",
            "Load checkpoint from: checkpoints/wav2lip_gan.pth\n",
            "Model loaded\n",
            "100% 4/4 [01:28<00:00, 22.03s/it]\n",
            "ffmpeg version 3.4.11-0ubuntu0.1 Copyright (c) 2000-2022 the FFmpeg developers\n",
            "  built with gcc 7 (Ubuntu 7.5.0-3ubuntu1~18.04)\n",
            "  configuration: --prefix=/usr --extra-version=0ubuntu0.1 --toolchain=hardened --libdir=/usr/lib/x86_64-linux-gnu --incdir=/usr/include/x86_64-linux-gnu --enable-gpl --disable-stripping --enable-avresample --enable-avisynth --enable-gnutls --enable-ladspa --enable-libass --enable-libbluray --enable-libbs2b --enable-libcaca --enable-libcdio --enable-libflite --enable-libfontconfig --enable-libfreetype --enable-libfribidi --enable-libgme --enable-libgsm --enable-libmp3lame --enable-libmysofa --enable-libopenjpeg --enable-libopenmpt --enable-libopus --enable-libpulse --enable-librubberband --enable-librsvg --enable-libshine --enable-libsnappy --enable-libsoxr --enable-libspeex --enable-libssh --enable-libtheora --enable-libtwolame --enable-libvorbis --enable-libvpx --enable-libwavpack --enable-libwebp --enable-libx265 --enable-libxml2 --enable-libxvid --enable-libzmq --enable-libzvbi --enable-omx --enable-openal --enable-opengl --enable-sdl2 --enable-libdc1394 --enable-libdrm --enable-libiec61883 --enable-chromaprint --enable-frei0r --enable-libopencv --enable-libx264 --enable-shared\n",
            "  libavutil      55. 78.100 / 55. 78.100\n",
            "  libavcodec     57.107.100 / 57.107.100\n",
            "  libavformat    57. 83.100 / 57. 83.100\n",
            "  libavdevice    57. 10.100 / 57. 10.100\n",
            "  libavfilter     6.107.100 /  6.107.100\n",
            "  libavresample   3.  7.  0 /  3.  7.  0\n",
            "  libswscale      4.  8.100 /  4.  8.100\n",
            "  libswresample   2.  9.100 /  2.  9.100\n",
            "  libpostproc    54.  7.100 / 54.  7.100\n",
            "\u001b[0;33mGuessed Channel Layout for Input Stream #0.0 : stereo\n",
            "\u001b[0mInput #0, wav, from '../sample_data/me2.wav':\n",
            "  Metadata:\n",
            "    encoder         : Lavf58.76.100\n",
            "  Duration: 00:00:15.00, bitrate: 1536 kb/s\n",
            "    Stream #0:0: Audio: pcm_s16le ([1][0][0][0] / 0x0001), 48000 Hz, stereo, s16, 1536 kb/s\n",
            "Input #1, avi, from 'temp/result.avi':\n",
            "  Metadata:\n",
            "    encoder         : Lavf58.26.101\n",
            "  Duration: 00:00:14.88, start: 0.000000, bitrate: 2131 kb/s\n",
            "    Stream #1:0: Video: mpeg4 (Simple Profile) (DIVX / 0x58564944), yuv420p, 1280x720 [SAR 1:1 DAR 16:9], 2127 kb/s, 29.97 fps, 29.97 tbr, 29.97 tbn, 2997 tbc\n",
            "Stream mapping:\n",
            "  Stream #1:0 -> #0:0 (mpeg4 (native) -> h264 (libx264))\n",
            "  Stream #0:0 -> #0:1 (pcm_s16le (native) -> aac (native))\n",
            "Press [q] to stop, [?] for help\n",
            "\u001b[1;36m[libx264 @ 0x55e6df65cd00] \u001b[0m\u001b[0;33m-qscale is ignored, -crf is recommended.\n",
            "\u001b[0m\u001b[1;36m[libx264 @ 0x55e6df65cd00] \u001b[0musing SAR=1/1\n",
            "\u001b[1;36m[libx264 @ 0x55e6df65cd00] \u001b[0musing cpu capabilities: MMX2 SSE2Fast SSSE3 SSE4.2 AVX FMA3 BMI2 AVX2\n",
            "\u001b[1;36m[libx264 @ 0x55e6df65cd00] \u001b[0mprofile High, level 3.1\n",
            "\u001b[1;36m[libx264 @ 0x55e6df65cd00] \u001b[0m264 - core 152 r2854 e9a5903 - H.264/MPEG-4 AVC codec - Copyleft 2003-2017 - http://www.videolan.org/x264.html - options: cabac=1 ref=3 deblock=1:0:0 analyse=0x3:0x113 me=hex subme=7 psy=1 psy_rd=1.00:0.00 mixed_ref=1 me_range=16 chroma_me=1 trellis=1 8x8dct=1 cqm=0 deadzone=21,11 fast_pskip=1 chroma_qp_offset=-2 threads=3 lookahead_threads=1 sliced_threads=0 nr=0 decimate=1 interlaced=0 bluray_compat=0 constrained_intra=0 bframes=3 b_pyramid=2 b_adapt=1 b_bias=0 direct=1 weightb=1 open_gop=0 weightp=2 keyint=250 keyint_min=25 scenecut=40 intra_refresh=0 rc_lookahead=40 rc=crf mbtree=1 crf=23.0 qcomp=0.60 qpmin=0 qpmax=69 qpstep=4 ip_ratio=1.40 aq=1:1.00\n",
            "Output #0, mp4, to 'results/result_voice.mp4':\n",
            "  Metadata:\n",
            "    encoder         : Lavf57.83.100\n",
            "    Stream #0:0: Video: h264 (libx264) (avc1 / 0x31637661), yuv420p(progressive), 1280x720 [SAR 1:1 DAR 16:9], q=-1--1, 29.97 fps, 30k tbn, 29.97 tbc\n",
            "    Metadata:\n",
            "      encoder         : Lavc57.107.100 libx264\n",
            "    Side data:\n",
            "      cpb: bitrate max/min/avg: 0/0/0 buffer size: 0 vbv_delay: -1\n",
            "    Stream #0:1: Audio: aac (LC) (mp4a / 0x6134706D), 48000 Hz, stereo, fltp, 128 kb/s\n",
            "    Metadata:\n",
            "      encoder         : Lavc57.107.100 aac\n",
            "frame=  446 fps= 49 q=-1.0 Lsize=     798kB time=00:00:15.01 bitrate= 435.1kbits/s speed=1.64x    \n",
            "video:547kB audio:233kB subtitle:0kB other streams:0kB global headers:0kB muxing overhead: 2.222770%\n",
            "\u001b[1;36m[libx264 @ 0x55e6df65cd00] \u001b[0mframe I:2     Avg QP:17.19  size: 97286\n",
            "\u001b[1;36m[libx264 @ 0x55e6df65cd00] \u001b[0mframe P:116   Avg QP:19.00  size:  2509\n",
            "\u001b[1;36m[libx264 @ 0x55e6df65cd00] \u001b[0mframe B:328   Avg QP:30.47  size:   225\n",
            "\u001b[1;36m[libx264 @ 0x55e6df65cd00] \u001b[0mconsecutive B-frames:  1.1%  2.2%  0.7% 96.0%\n",
            "\u001b[1;36m[libx264 @ 0x55e6df65cd00] \u001b[0mmb I  I16..4:  1.7% 97.5%  0.8%\n",
            "\u001b[1;36m[libx264 @ 0x55e6df65cd00] \u001b[0mmb P  I16..4:  0.1%  0.6%  0.0%  P16..4:  8.6%  1.6%  1.6%  0.0%  0.0%    skip:87.5%\n",
            "\u001b[1;36m[libx264 @ 0x55e6df65cd00] \u001b[0mmb B  I16..4:  0.0%  0.0%  0.0%  B16..8:  4.3%  0.1%  0.0%  direct: 0.0%  skip:95.6%  L0:38.2% L1:60.6% BI: 1.3%\n",
            "\u001b[1;36m[libx264 @ 0x55e6df65cd00] \u001b[0m8x8 transform intra:94.8% inter:91.4%\n",
            "\u001b[1;36m[libx264 @ 0x55e6df65cd00] \u001b[0mcoded y,uvDC,uvAC intra: 91.8% 84.7% 28.9% inter: 1.2% 1.6% 0.1%\n",
            "\u001b[1;36m[libx264 @ 0x55e6df65cd00] \u001b[0mi16 v,h,dc,p: 16% 17%  3% 63%\n",
            "\u001b[1;36m[libx264 @ 0x55e6df65cd00] \u001b[0mi8 v,h,dc,ddl,ddr,vr,hd,vl,hu: 23% 17% 31%  4%  3%  4%  4%  6%  7%\n",
            "\u001b[1;36m[libx264 @ 0x55e6df65cd00] \u001b[0mi4 v,h,dc,ddl,ddr,vr,hd,vl,hu: 37% 19% 13%  4%  8%  7%  5%  4%  3%\n",
            "\u001b[1;36m[libx264 @ 0x55e6df65cd00] \u001b[0mi8c dc,h,v,p: 38% 25% 27% 10%\n",
            "\u001b[1;36m[libx264 @ 0x55e6df65cd00] \u001b[0mWeighted P-Frames: Y:0.0% UV:0.0%\n",
            "\u001b[1;36m[libx264 @ 0x55e6df65cd00] \u001b[0mref P L0: 74.2%  6.8% 13.4%  5.6%\n",
            "\u001b[1;36m[libx264 @ 0x55e6df65cd00] \u001b[0mref B L0: 85.7% 11.7%  2.6%\n",
            "\u001b[1;36m[libx264 @ 0x55e6df65cd00] \u001b[0mref B L1: 88.0% 12.0%\n",
            "\u001b[1;36m[libx264 @ 0x55e6df65cd00] \u001b[0mkb/s:300.71\n",
            "\u001b[1;36m[aac @ 0x55e6df768000] \u001b[0mQavg: 1383.503\n"
          ]
        }
      ]
    },
    {
      "cell_type": "markdown",
      "metadata": {
        "id": "uo-WnsxfbwTG"
      },
      "source": [
        "2.   Use resize_factor to reduce the video resolution, as there is a change you might get better results for lower resolution videos. Why? Because the model was trained on low resolution faces."
      ]
    },
    {
      "cell_type": "code",
      "metadata": {
        "id": "xw0xFtZ2bsx8"
      },
      "source": [
        "!cd Wav2Lip && python inference.py --checkpoint_path checkpoints/wav2lip_gan.pth --face \"../sample_data/input_vid.mp4\" --audio \"../sample_data/input_audio.wav\" --resize_factor 2"
      ],
      "execution_count": null,
      "outputs": []
    }
  ]
}